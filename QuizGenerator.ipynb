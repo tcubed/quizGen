{
 "cells": [
  {
   "cell_type": "markdown",
   "metadata": {},
   "source": [
    "# Quiz Generation"
   ]
  },
  {
   "cell_type": "code",
   "execution_count": 2,
   "metadata": {},
   "outputs": [],
   "source": [
    "import os\n",
    "import pandas as pd\n",
    "import numpy as np\n",
    "from IPython.display import display\n",
    "import xlrd\n",
    "\n",
    "import importlib\n",
    "import quizgen"
   ]
  },
  {
   "cell_type": "code",
   "execution_count": 152,
   "metadata": {
    "scrolled": false
   },
   "outputs": [
    {
     "name": "stdout",
     "output_type": "stream",
     "text": [
      "QuizGenerator initialized.\n",
      "Done writing quiz packet (A_QuizMeet_20191207_test.docx)\n"
     ]
    }
   ],
   "source": [
    "np.random.seed(12346)\n",
    "\n",
    "importlib.reload(quizgen)\n",
    "\n",
    "#\n",
    "# specify the quizMakeup, i.e. how much from from which books, chapters,\n",
    "# and verses\n",
    "#\n",
    "quizMakeup={'current':{'frac':0.5,'content':[('HEB',[10,11],[150,300])]},\n",
    "               'past':{'frac':0.5,'content':[('HEB',[1,2,3,4,5,6,7,8,9],[150,300])]}\n",
    "            }\n",
    "nquiz=4\n",
    "\n",
    "# \n",
    "# Instantiate the quiz generator with the database\n",
    "#\n",
    "fnxls='HEB1P2P_CMA_marked.xls'\n",
    "QG=quizgen.QuizGenerator(fndatabase=fnxls)\n",
    "#QG.verbose=True\n",
    "\n",
    "QG.setQuizMakeup(quizMakeup,nquiz=nquiz)\n",
    "QG.getContent()\n",
    "QG.generateQuizTables(xtra=10)\n",
    "\n",
    "QG.genQuizPacket(fn='A_QuizMeet_20191207_test.docx',title='WGLD A Practice Packet - 11/18/2019')"
   ]
  },
  {
   "cell_type": "code",
   "execution_count": 154,
   "metadata": {
    "scrolled": true
   },
   "outputs": [
    {
     "name": "stdout",
     "output_type": "stream",
     "text": [
      "QuizGenerator initialized.\n",
      "Done writing quiz packet (B_20191118_practice.docx)\n"
     ]
    }
   ],
   "source": [
    "importlib.reload(quizgen)\n",
    "np.random.seed(12345)\n",
    "\n",
    "#\n",
    "# specify the quizMakeup, i.e. how much from from which books, chapters,\n",
    "# and verses\n",
    "#\n",
    "quizMakeup={'current':{'frac':1.,'content':[('HEB',[10,11],[150])]}\n",
    "            }\n",
    "nquiz=4\n",
    "\n",
    "# \n",
    "# Instantiate the quiz generator with the database\n",
    "#\n",
    "fnxls='HEB1P2P_CMA_marked.xls'\n",
    "QG=quizgen.QuizGenerator(fndatabase=fnxls)\n",
    "\n",
    "QG.setQuizMakeup(quizMakeup,nquiz=nquiz)\n",
    "QG.getContent()\n",
    "QG.generateQuizTables(xtra=0)\n",
    "\n",
    "QG.genQuizPacket(fn='B_20191118_practice.docx',title='WGLD B Quiz Packet - 11/18/2019')"
   ]
  },
  {
   "cell_type": "code",
   "execution_count": 94,
   "metadata": {},
   "outputs": [
    {
     "ename": "TypeError",
     "evalue": "cannot perform reduce with flexible type",
     "output_type": "error",
     "traceback": [
      "\u001b[1;31m---------------------------------------------------------------------------\u001b[0m",
      "\u001b[1;31mTypeError\u001b[0m                                 Traceback (most recent call last)",
      "\u001b[1;32m<ipython-input-94-b77e3e77aaed>\u001b[0m in \u001b[0;36m<module>\u001b[1;34m\u001b[0m\n\u001b[1;32m----> 1\u001b[1;33m \u001b[1;33m(\u001b[0m\u001b[0mnp\u001b[0m\u001b[1;33m.\u001b[0m\u001b[0marray\u001b[0m\u001b[1;33m(\u001b[0m\u001b[1;33m[\u001b[0m\u001b[1;34m'a'\u001b[0m\u001b[1;33m,\u001b[0m\u001b[1;34m'b'\u001b[0m\u001b[1;33m]\u001b[0m\u001b[1;33m)\u001b[0m\u001b[1;33m)\u001b[0m\u001b[1;33m.\u001b[0m\u001b[0many\u001b[0m\u001b[1;33m(\u001b[0m\u001b[1;33m)\u001b[0m\u001b[1;33m==\u001b[0m\u001b[1;32mFalse\u001b[0m\u001b[1;33m\u001b[0m\u001b[1;33m\u001b[0m\u001b[0m\n\u001b[0m",
      "\u001b[1;32m~\\Anaconda3\\envs\\python37\\lib\\site-packages\\numpy\\core\\_methods.py\u001b[0m in \u001b[0;36m_any\u001b[1;34m(a, axis, dtype, out, keepdims)\u001b[0m\n\u001b[0;32m     41\u001b[0m \u001b[1;33m\u001b[0m\u001b[0m\n\u001b[0;32m     42\u001b[0m \u001b[1;32mdef\u001b[0m \u001b[0m_any\u001b[0m\u001b[1;33m(\u001b[0m\u001b[0ma\u001b[0m\u001b[1;33m,\u001b[0m \u001b[0maxis\u001b[0m\u001b[1;33m=\u001b[0m\u001b[1;32mNone\u001b[0m\u001b[1;33m,\u001b[0m \u001b[0mdtype\u001b[0m\u001b[1;33m=\u001b[0m\u001b[1;32mNone\u001b[0m\u001b[1;33m,\u001b[0m \u001b[0mout\u001b[0m\u001b[1;33m=\u001b[0m\u001b[1;32mNone\u001b[0m\u001b[1;33m,\u001b[0m \u001b[0mkeepdims\u001b[0m\u001b[1;33m=\u001b[0m\u001b[1;32mFalse\u001b[0m\u001b[1;33m)\u001b[0m\u001b[1;33m:\u001b[0m\u001b[1;33m\u001b[0m\u001b[1;33m\u001b[0m\u001b[0m\n\u001b[1;32m---> 43\u001b[1;33m     \u001b[1;32mreturn\u001b[0m \u001b[0mumr_any\u001b[0m\u001b[1;33m(\u001b[0m\u001b[0ma\u001b[0m\u001b[1;33m,\u001b[0m \u001b[0maxis\u001b[0m\u001b[1;33m,\u001b[0m \u001b[0mdtype\u001b[0m\u001b[1;33m,\u001b[0m \u001b[0mout\u001b[0m\u001b[1;33m,\u001b[0m \u001b[0mkeepdims\u001b[0m\u001b[1;33m)\u001b[0m\u001b[1;33m\u001b[0m\u001b[1;33m\u001b[0m\u001b[0m\n\u001b[0m\u001b[0;32m     44\u001b[0m \u001b[1;33m\u001b[0m\u001b[0m\n\u001b[0;32m     45\u001b[0m \u001b[1;32mdef\u001b[0m \u001b[0m_all\u001b[0m\u001b[1;33m(\u001b[0m\u001b[0ma\u001b[0m\u001b[1;33m,\u001b[0m \u001b[0maxis\u001b[0m\u001b[1;33m=\u001b[0m\u001b[1;32mNone\u001b[0m\u001b[1;33m,\u001b[0m \u001b[0mdtype\u001b[0m\u001b[1;33m=\u001b[0m\u001b[1;32mNone\u001b[0m\u001b[1;33m,\u001b[0m \u001b[0mout\u001b[0m\u001b[1;33m=\u001b[0m\u001b[1;32mNone\u001b[0m\u001b[1;33m,\u001b[0m \u001b[0mkeepdims\u001b[0m\u001b[1;33m=\u001b[0m\u001b[1;32mFalse\u001b[0m\u001b[1;33m)\u001b[0m\u001b[1;33m:\u001b[0m\u001b[1;33m\u001b[0m\u001b[1;33m\u001b[0m\u001b[0m\n",
      "\u001b[1;31mTypeError\u001b[0m: cannot perform reduce with flexible type"
     ]
    }
   ],
   "source": [
    "(np.array(['a','b'])).any()==False\n"
   ]
  },
  {
   "cell_type": "markdown",
   "metadata": {},
   "source": [
    "## Make A Quiz Packet"
   ]
  },
  {
   "cell_type": "code",
   "execution_count": 283,
   "metadata": {},
   "outputs": [
    {
     "name": "stdout",
     "output_type": "stream",
     "text": [
      "QuizGenerator initialized.\n",
      "Done writing quiz packet (A_Quiz1028.docx)\n"
     ]
    }
   ],
   "source": [
    "importlib.reload(quizgen)\n",
    "\n",
    "#\n",
    "# specify the quizMakeup, i.e. how much from from which books, chapters,\n",
    "# and verses\n",
    "#\n",
    "quizMakeup={'current':{'frac':0.5,'content':[('HEB',[6,7,8,9],[150,300])]},\n",
    "               'past':{'frac':0.5,'content':[('HEB',[1,2,3,4,5],[150,300])]}\n",
    "            }\n",
    "nquiz=3\n",
    "\n",
    "# \n",
    "# Instantiate the quiz generator with the database\n",
    "#\n",
    "fnxls='HEB1P2P_CMA_marked.xls'\n",
    "QG=quizgen.QuizGenerator(fndatabase=fnxls)\n",
    "\n",
    "# apply quizMakeup and set number of quizzes\n",
    "QG.setQuizMakeup(quizMakeup,nquiz=nquiz)\n",
    "QG.getContent()\n",
    "QG.generateQuizTables()\n",
    "QG.genQuizPacket(fn='A_Quiz1030.docx',title='WGLD A Quiz Packet - 10/30')"
   ]
  },
  {
   "cell_type": "code",
   "execution_count": 11,
   "metadata": {},
   "outputs": [
    {
     "ename": "ValueError",
     "evalue": "probabilities do not sum to 1",
     "output_type": "error",
     "traceback": [
      "\u001b[1;31m---------------------------------------------------------------------------\u001b[0m",
      "\u001b[1;31mValueError\u001b[0m                                Traceback (most recent call last)",
      "\u001b[1;32m<ipython-input-11-59a2a255be77>\u001b[0m in \u001b[0;36m<module>\u001b[1;34m\u001b[0m\n\u001b[0;32m      1\u001b[0m \u001b[1;32mimport\u001b[0m \u001b[0mnumpy\u001b[0m \u001b[1;32mas\u001b[0m \u001b[0mnp\u001b[0m\u001b[1;33m\u001b[0m\u001b[1;33m\u001b[0m\u001b[0m\n\u001b[1;32m----> 2\u001b[1;33m \u001b[0mnp\u001b[0m\u001b[1;33m.\u001b[0m\u001b[0mrandom\u001b[0m\u001b[1;33m.\u001b[0m\u001b[0mchoice\u001b[0m\u001b[1;33m(\u001b[0m\u001b[1;33m[\u001b[0m\u001b[1;34m'a'\u001b[0m\u001b[1;33m,\u001b[0m\u001b[1;34m'b'\u001b[0m\u001b[1;33m]\u001b[0m\u001b[1;33m,\u001b[0m\u001b[0mp\u001b[0m\u001b[1;33m=\u001b[0m\u001b[1;33m[\u001b[0m\u001b[1;36m5.2\u001b[0m\u001b[1;33m,\u001b[0m\u001b[1;36m.8\u001b[0m\u001b[1;33m]\u001b[0m\u001b[1;33m)\u001b[0m\u001b[1;33m\u001b[0m\u001b[1;33m\u001b[0m\u001b[0m\n\u001b[0m",
      "\u001b[1;32mmtrand.pyx\u001b[0m in \u001b[0;36mmtrand.RandomState.choice\u001b[1;34m()\u001b[0m\n",
      "\u001b[1;31mValueError\u001b[0m: probabilities do not sum to 1"
     ]
    }
   ],
   "source": [
    "import numpy as np\n",
    "np.random.choice(['a','b'],p=[5.2,.8])"
   ]
  },
  {
   "cell_type": "markdown",
   "metadata": {},
   "source": [
    "# Make B quiz packet\n",
    "B division quizzes are only from current chapters and the Club 150 verses."
   ]
  },
  {
   "cell_type": "code",
   "execution_count": 274,
   "metadata": {},
   "outputs": [
    {
     "name": "stdout",
     "output_type": "stream",
     "text": [
      "Only 26 cr questions; trying to draw 44!  Will repeat.\n",
      "Only 22 ft questions; trying to draw 32!  Will repeat.\n",
      "Only 10 ma questions; trying to draw 24!  Will repeat.\n",
      "Only 29 q questions; trying to draw 32!  Will repeat.\n",
      "Done writing quiz packet (B_QuizMeetPacket.docx)\n"
     ]
    }
   ],
   "source": [
    "#\n",
    "# change the makeup for a B quiz\n",
    "#\n",
    "quizMakeup={'current':{'frac':1.0,'content':[('HEB',[6,7,8,9,10],[150])]}}\n",
    "\n",
    "QG.setQuizMakeup(quizMakeup,nquiz=4)\n",
    "QG.getContent()\n",
    "QG.generateQuizTables()\n",
    "\n",
    "msg={'intro':'This is a quiz meet packet for WGLD with these features:',\n",
    "     'list':['B quizzes only cover Club 150 verses.',\n",
    "             'Yellow verses are repeats from earlier in the day.'+\n",
    "             '  You may go back and find unused A & B questions from'+\n",
    "             ' earlier in the day (e.g. Quiz 1 16A, 16B).']}\n",
    "\n",
    "QG.genQuizPacket(fn='B_QuizMeetPacket.docx',title='WGLD B Quiz Packet',msg=msg)"
   ]
  },
  {
   "cell_type": "markdown",
   "metadata": {},
   "source": [
    "# Make Practice Set for A Division\n",
    "Create a custom quiz makeup and distribution."
   ]
  },
  {
   "cell_type": "code",
   "execution_count": 3,
   "metadata": {
    "scrolled": true
   },
   "outputs": [
    {
     "name": "stdout",
     "output_type": "stream",
     "text": [
      "QuizGenerator initialized.\n",
      "int: pulling 50 of 355 questions\n",
      "cr: pulling 50 of 76 questions\n",
      "ft: pulling 50 of 81 questions\n",
      "ma: pulling 39 of 39 questions\n",
      "q: pulling 50 of 104 questions\n",
      "Done writing quiz packet (A_Practice.docx)\n"
     ]
    }
   ],
   "source": [
    "#\n",
    "# Division A quiz set, this one only focuses on new content.\n",
    "#\n",
    "importlib.reload(quizgen)\n",
    "fnxls='HEB1P2P_CMA_marked.xls'\n",
    "QG=quizgen.QuizGenerator(fndatabase=fnxls)\n",
    "\n",
    "quizMakeup={'current':{'frac':1.0,'content':[('HEB',[1,2,3,4,5,6,7,8,9,10],[150,300])]}}\n",
    "\n",
    "QG.setQuizMakeup(quizMakeup,nquiz=1)\n",
    "#QG.verbose=1\n",
    "\n",
    "QG.quizType='custom'\n",
    "# reset distribution\n",
    "qdist=QG.quizDistribution\n",
    "#display(qdist.keys())\n",
    "qdist['int']['range']=(50,50)\n",
    "qdist['cr']['range']=(50,50)\n",
    "qdist['ft']['range']=(50,50)\n",
    "qdist['ma']['range']=(50,50)\n",
    "qdist['q']['range']=(50,50)\n",
    "\n",
    "QG.getContent()\n",
    "QG.generateQuizTables()\n",
    "\n",
    "msg={'intro':'This is a practice packet for WGLD with these features:',\n",
    "     'list':['A division quizzes have 50% current and 50% past periods.']}\n",
    "\n",
    "QG.genQuizPacket(fn='A_Practice.docx',title='WGLD A Practice Packet',msg=msg)"
   ]
  },
  {
   "cell_type": "markdown",
   "metadata": {},
   "source": [
    "# Make Practice Set for B Division\n",
    "Create a custom quiz makeup and distribution."
   ]
  },
  {
   "cell_type": "code",
   "execution_count": 276,
   "metadata": {},
   "outputs": [
    {
     "name": "stdout",
     "output_type": "stream",
     "text": [
      "int: pulling 50 of 102 questions\n",
      "cr: pulling 26 of 26 questions\n",
      "ft: pulling 22 of 22 questions\n",
      "ma: pulling 10 of 10 questions\n",
      "q: pulling 29 of 29 questions\n",
      "Done writing quiz packet (B_Practice.docx)\n"
     ]
    }
   ],
   "source": [
    "#\n",
    "# Division B quiz set.\n",
    "#\n",
    "quizMakeup={'current':{'frac':1.0,'content':[('HEB',[6,7,8,9,10],[150])]}}\n",
    "\n",
    "QG.setQuizMakeup(quizMakeup,nquiz=1)\n",
    "#QG.verbose=1\n",
    "\n",
    "QG.quizType='custom'\n",
    "# reset distribution\n",
    "qdist=QG.quizDistribution\n",
    "#display(qdist.keys())\n",
    "qdist['int']['range']=(50,50)\n",
    "qdist['cr']['range']=(50,50)\n",
    "qdist['ft']['range']=(50,50)\n",
    "qdist['ma']['range']=(50,50)\n",
    "qdist['q']['range']=(50,50)\n",
    "\n",
    "QG.getContent()\n",
    "QG.generateQuizTables()\n",
    "\n",
    "msg={'intro':'This is a B practice packet for WGLD with these features:',\n",
    "     'list':['B questions are only from Club 150.']}\n",
    "\n",
    "QG.genQuizPacket(fn='B_Practice.docx',title='WGLD B Practice Packet',msg=msg)"
   ]
  },
  {
   "cell_type": "code",
   "execution_count": null,
   "metadata": {},
   "outputs": [],
   "source": []
  }
 ],
 "metadata": {
  "kernelspec": {
   "display_name": "Python3 (python37)",
   "language": "python",
   "name": "python37"
  },
  "language_info": {
   "codemirror_mode": {
    "name": "ipython",
    "version": 3
   },
   "file_extension": ".py",
   "mimetype": "text/x-python",
   "name": "python",
   "nbconvert_exporter": "python",
   "pygments_lexer": "ipython3",
   "version": "3.7.3"
  }
 },
 "nbformat": 4,
 "nbformat_minor": 2
}
